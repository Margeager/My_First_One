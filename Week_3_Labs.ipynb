{
  "cells": [
    {
      "metadata": {
        "collapsed": true
      },
      "cell_type": "markdown",
      "source": "# Week 3 Labs, Rank 1 ndarrays"
    },
    {
      "metadata": {
        "trusted": true
      },
      "cell_type": "code",
      "source": "import numpy as np\nan_array = np.array([3, 33, 333]) #create a rank 1 array\nprint(type(an_array)) #printing the type of the array",
      "execution_count": 2,
      "outputs": [
        {
          "output_type": "stream",
          "text": "<class 'numpy.ndarray'>\n",
          "name": "stdout"
        }
      ]
    },
    {
      "metadata": {
        "trusted": true
      },
      "cell_type": "code",
      "source": "#test the shape of the array\nprint(an_array.shape)",
      "execution_count": 3,
      "outputs": [
        {
          "output_type": "stream",
          "text": "(3,)\n",
          "name": "stdout"
        }
      ]
    },
    {
      "metadata": {
        "trusted": true
      },
      "cell_type": "code",
      "source": "print(an_array[0], an_array[1], an_array[2]) #test the indexes",
      "execution_count": 4,
      "outputs": [
        {
          "output_type": "stream",
          "text": "3 33 333\n",
          "name": "stdout"
        }
      ]
    },
    {
      "metadata": {
        "trusted": true
      },
      "cell_type": "code",
      "source": "an_array[0] = 888 #to replace the first element\n\nprint(an_array)",
      "execution_count": 5,
      "outputs": [
        {
          "output_type": "stream",
          "text": "[888  33 333]\n",
          "name": "stdout"
        }
      ]
    },
    {
      "metadata": {},
      "cell_type": "markdown",
      "source": "# Move on to two-dimensional arrays"
    },
    {
      "metadata": {
        "trusted": true
      },
      "cell_type": "code",
      "source": "another = np.array([[11,12,13],[21,22,23]]) #to create a rank 2 array\nprint(another) #to print the array\nprint(\"The shape is 2 rows, 3 columns:\", another.shape)\nprint(\"accessing elements[0,0], [0,1] and[1,0] of the ndarray\", another)\n                    ",
      "execution_count": 6,
      "outputs": [
        {
          "output_type": "stream",
          "text": "[[11 12 13]\n [21 22 23]]\nThe shape is 2 rows, 3 columns: (2, 3)\naccessing elements[0,0], [0,1] and[1,0] of the ndarray [[11 12 13]\n [21 22 23]]\n",
          "name": "stdout"
        }
      ]
    },
    {
      "metadata": {
        "trusted": true
      },
      "cell_type": "code",
      "source": "#create a 2x2 array of zeros\nex1 = np.zeros((2,2))\nprint(ex1)",
      "execution_count": 7,
      "outputs": [
        {
          "output_type": "stream",
          "text": "[[0. 0.]\n [0. 0.]]\n",
          "name": "stdout"
        }
      ]
    },
    {
      "metadata": {
        "trusted": true
      },
      "cell_type": "code",
      "source": "#create a 2x2 array filled of 9.0\nex2 = np.full((2,2), 9.0)\nprint(ex2)",
      "execution_count": 8,
      "outputs": [
        {
          "output_type": "stream",
          "text": "[[9. 9.]\n [9. 9.]]\n",
          "name": "stdout"
        }
      ]
    },
    {
      "metadata": {
        "trusted": true
      },
      "cell_type": "code",
      "source": "#create a matrix with the diagonal 1s and the other 0\nex3 = np.eye(2,2)\nprint(ex3)",
      "execution_count": 9,
      "outputs": [
        {
          "output_type": "stream",
          "text": "[[1. 0.]\n [0. 1.]]\n",
          "name": "stdout"
        }
      ]
    },
    {
      "metadata": {
        "trusted": true
      },
      "cell_type": "code",
      "source": "#create an array of 1s\nex4 = np.ones((1,2))\nprint(ex4)",
      "execution_count": 10,
      "outputs": [
        {
          "output_type": "stream",
          "text": "[[1. 1.]]\n",
          "name": "stdout"
        }
      ]
    },
    {
      "metadata": {
        "trusted": true
      },
      "cell_type": "code",
      "source": "#the ndarray (ex4) is a 2D array with one row and two column\nprint(ex4.shape)\n\n#we need 2 indexes to access one element\nprint()\nprint(ex4[0,1])\n",
      "execution_count": 11,
      "outputs": [
        {
          "output_type": "stream",
          "text": "(1, 2)\n\n1.0\n",
          "name": "stdout"
        }
      ]
    },
    {
      "metadata": {
        "trusted": true
      },
      "cell_type": "code",
      "source": "#create an array of random floats between o and 1\nex5 = np.random.random((2,2))\nprint(ex5)",
      "execution_count": 12,
      "outputs": [
        {
          "output_type": "stream",
          "text": "[[0.22875692 0.25680677]\n [0.27473938 0.80696737]]\n",
          "name": "stdout"
        }
      ]
    },
    {
      "metadata": {},
      "cell_type": "markdown",
      "source": "### Numpy array indexes"
    },
    {
      "metadata": {
        "trusted": true
      },
      "cell_type": "code",
      "source": "# rank 2 array of shape (3,4)\nan_array = np.array([[11,12,13,14],[21,22,23,24], [31,32,33,34]])\nprint(an_array)",
      "execution_count": 13,
      "outputs": [
        {
          "output_type": "stream",
          "text": "[[11 12 13 14]\n [21 22 23 24]\n [31 32 33 34]]\n",
          "name": "stdout"
        }
      ]
    },
    {
      "metadata": {},
      "cell_type": "markdown",
      "source": "### Use array slicing to get a subarray consisting of the first 2 rows x 2 columns"
    },
    {
      "metadata": {
        "trusted": true
      },
      "cell_type": "code",
      "source": "a_slice = an_array[:2, 1:3]\nprint(a_slice)",
      "execution_count": 14,
      "outputs": [
        {
          "output_type": "stream",
          "text": "[[12 13]\n [22 23]]\n",
          "name": "stdout"
        }
      ]
    },
    {
      "metadata": {},
      "cell_type": "markdown",
      "source": " When you modify a slice, you actually modify the underliying array"
    },
    {
      "metadata": {
        "trusted": true
      },
      "cell_type": "code",
      "source": "print(\"Before:\",an_array[0, 1]) # inspect the element at 0, 1\na_slice[0,0] = 1000 # a-slice[0,0] is the same piece of data as an_array[0,1]\nprint(\"After:\",an_array[0, 1])",
      "execution_count": 15,
      "outputs": [
        {
          "output_type": "stream",
          "text": "Before: 12\nAfter: 1000\n",
          "name": "stdout"
        }
      ]
    },
    {
      "metadata": {
        "trusted": true
      },
      "cell_type": "markdown",
      "source": "# Use both Integer Indexes and slicing indexing"
    },
    {
      "metadata": {},
      "cell_type": "markdown",
      "source": "We can use combinations integer indexing and slicing indexing to create different shaped matrices."
    },
    {
      "metadata": {
        "trusted": true
      },
      "cell_type": "code",
      "source": "#create a rank 2 array of shape (2,4)\nan_array = np.array([[11,12,13,14],[21,22,23,24], [31,32,33,34]])\nprint(an_array)",
      "execution_count": 16,
      "outputs": [
        {
          "output_type": "stream",
          "text": "[[11 12 13 14]\n [21 22 23 24]\n [31 32 33 34]]\n",
          "name": "stdout"
        }
      ]
    },
    {
      "metadata": {
        "trusted": true
      },
      "cell_type": "code",
      "source": "#using both integer indexing and and slicing indexing generates an array of lower rank\nrow_rank1 = an_array[1, :] #Rank 1 view\nprint(row_rank1, row_rank1.shape) # 1 single []\n\n",
      "execution_count": 17,
      "outputs": [
        {
          "output_type": "stream",
          "text": "[21 22 23 24] (4,)\n",
          "name": "stdout"
        }
      ]
    },
    {
      "metadata": {
        "trusted": true
      },
      "cell_type": "code",
      "source": "#slicing alone: generates an array of the same rank as an_array\nrow_rank2 = an_array[1:2, :] #Rank 2 view\nprint(row_rank2, row_rank2.shape) # the double braket reflects the 2D array",
      "execution_count": 18,
      "outputs": [
        {
          "output_type": "stream",
          "text": "[[21 22 23 24]] (1, 4)\n",
          "name": "stdout"
        }
      ]
    },
    {
      "metadata": {
        "trusted": true
      },
      "cell_type": "code",
      "source": "# We can do the same thing for column of an array\nprint()\ncol_rank1 = an_array[:, 1]\ncol_rank2 = an_array[:, 1:2]\nprint(col_rank1, col_rank1.shape) # Rank 1\nprint()\nprint(col_rank2, col_rank2.shape) # Rank 2\nprint()\n",
      "execution_count": 19,
      "outputs": [
        {
          "output_type": "stream",
          "text": "\n[12 22 32] (3,)\n\n[[12]\n [22]\n [32]] (3, 1)\n\n",
          "name": "stdout"
        }
      ]
    },
    {
      "metadata": {},
      "cell_type": "markdown",
      "source": "###### Array indexing for changing elements"
    },
    {
      "metadata": {},
      "cell_type": "markdown",
      "source": "Sometimes it's useful to use an array of indexes to acces or change elements"
    },
    {
      "metadata": {
        "trusted": true
      },
      "cell_type": "code",
      "source": "an_array = np.array([[11,12,13], [21,22,23], [31,32,33], [41,42,43]])\nprint('Original Array:')\nprint(an_array)",
      "execution_count": 20,
      "outputs": [
        {
          "output_type": "stream",
          "text": "Original Array:\n[[11 12 13]\n [21 22 23]\n [31 32 33]\n [41 42 43]]\n",
          "name": "stdout"
        }
      ]
    },
    {
      "metadata": {
        "trusted": true
      },
      "cell_type": "code",
      "source": "# Create an array of indices\ncol_indices = np.array([0,1,2,0])\nprint('\\nCol indices picked:', col_indices)\n\nrow_indices = np.arange(4)\nprint('\\nRow indices picked:', row_indices)\n",
      "execution_count": 21,
      "outputs": [
        {
          "output_type": "stream",
          "text": "\nCol indices picked: [0 1 2 0]\n\nRow indices picked: [0 1 2 3]\n",
          "name": "stdout"
        }
      ]
    },
    {
      "metadata": {
        "trusted": true
      },
      "cell_type": "code",
      "source": "# Examine the pairing of row_indices and column_indices\nfor row,col in zip(row_indices, col_indices):\n    print(row, \", \",col)",
      "execution_count": 22,
      "outputs": [
        {
          "output_type": "stream",
          "text": "0 ,  0\n1 ,  1\n2 ,  2\n3 ,  0\n",
          "name": "stdout"
        }
      ]
    },
    {
      "metadata": {
        "trusted": true
      },
      "cell_type": "code",
      "source": "# Select one element from each row\nprint('Values in the array at those indices:',an_array[row_indices, col_indices])",
      "execution_count": 23,
      "outputs": [
        {
          "output_type": "stream",
          "text": "Values in the array at those indices: [11 22 33 41]\n",
          "name": "stdout"
        }
      ]
    },
    {
      "metadata": {
        "trusted": true
      },
      "cell_type": "code",
      "source": "# Change one element form each row using the indices selected\nan_array[row_indices, col_indices] += 100000\nprint('\\nChanged Array:')\nprint(an_array)",
      "execution_count": 24,
      "outputs": [
        {
          "output_type": "stream",
          "text": "\nChanged Array:\n[[100011     12     13]\n [    21 100022     23]\n [    31     32 100033]\n [100041     42     43]]\n",
          "name": "stdout"
        }
      ]
    },
    {
      "metadata": {},
      "cell_type": "markdown",
      "source": "# Bolean Indexing"
    },
    {
      "metadata": {},
      "cell_type": "markdown",
      "source": "## Array Indexing for changing element"
    },
    {
      "metadata": {
        "trusted": true
      },
      "cell_type": "code",
      "source": "# Create a 3x2 array\nan_array = np.array([[11,12], [21,22], [31,32]])\nprint(an_array)",
      "execution_count": 40,
      "outputs": [
        {
          "output_type": "stream",
          "text": "[[11 12]\n [21 22]\n [31 32]]\n",
          "name": "stdout"
        }
      ]
    },
    {
      "metadata": {
        "trusted": true
      },
      "cell_type": "code",
      "source": "# Create a filter which will be boolean for whether each element meets this criteria\nfilter = (an_array > 15)\nfilter",
      "execution_count": 41,
      "outputs": [
        {
          "output_type": "execute_result",
          "execution_count": 41,
          "data": {
            "text/plain": "array([[False, False],\n       [ True,  True],\n       [ True,  True]])"
          },
          "metadata": {}
        }
      ]
    },
    {
      "metadata": {},
      "cell_type": "markdown",
      "source": "Notice that the filter is the same size as an_array filled with True for elements that meet the criteria and False for others."
    },
    {
      "metadata": {
        "trusted": true
      },
      "cell_type": "code",
      "source": "# Select the elements that meet that criteria\nprint(an_array[filter])",
      "execution_count": 42,
      "outputs": [
        {
          "output_type": "stream",
          "text": "[21 22 31 32]\n",
          "name": "stdout"
        }
      ]
    },
    {
      "metadata": {
        "trusted": true
      },
      "cell_type": "code",
      "source": "# For short, do the following\nan_array[an_array > 15]",
      "execution_count": 47,
      "outputs": [
        {
          "output_type": "execute_result",
          "execution_count": 47,
          "data": {
            "text/plain": "array([112,  21, 122,  31, 132])"
          },
          "metadata": {}
        }
      ]
    },
    {
      "metadata": {
        "trusted": true
      },
      "cell_type": "code",
      "source": "# Find the values between 20 and 30\nan_array[(an_array > 20) & (an_array<30)]",
      "execution_count": 44,
      "outputs": [
        {
          "output_type": "execute_result",
          "execution_count": 44,
          "data": {
            "text/plain": "array([21, 22])"
          },
          "metadata": {}
        }
      ]
    },
    {
      "metadata": {
        "trusted": true
      },
      "cell_type": "code",
      "source": "# Find all the even values\nan_array[an_array %2 ==0]",
      "execution_count": 46,
      "outputs": [
        {
          "output_type": "execute_result",
          "execution_count": 46,
          "data": {
            "text/plain": "array([112, 122, 132])"
          },
          "metadata": {}
        }
      ]
    },
    {
      "metadata": {
        "trusted": true
      },
      "cell_type": "code",
      "source": "# Change element in the array applying a similar logical filter\n# Add 100 to all even values\nan_array[an_array %2 == 0] +=100\nprint(an_array)",
      "execution_count": 45,
      "outputs": [
        {
          "output_type": "stream",
          "text": "[[ 11 112]\n [ 21 122]\n [ 31 132]]\n",
          "name": "stdout"
        }
      ]
    },
    {
      "metadata": {},
      "cell_type": "markdown",
      "source": "# Numpy: ndarray Data Types and Operations"
    },
    {
      "metadata": {},
      "cell_type": "markdown",
      "source": "### Data Types"
    },
    {
      "metadata": {
        "trusted": true
      },
      "cell_type": "code",
      "source": "# Python assigns the data type\nex1 = np.array([11,12])\nprint(ex1.dtype)",
      "execution_count": 48,
      "outputs": [
        {
          "output_type": "stream",
          "text": "int64\n",
          "name": "stdout"
        }
      ]
    },
    {
      "metadata": {
        "trusted": true
      },
      "cell_type": "code",
      "source": "ex2 = np.array([11.0, 12.0])\nprint(ex2.dtype)",
      "execution_count": 49,
      "outputs": [
        {
          "output_type": "stream",
          "text": "float64\n",
          "name": "stdout"
        }
      ]
    },
    {
      "metadata": {
        "trusted": true
      },
      "cell_type": "code",
      "source": "# Tell Python the data type you want\nex3 = np.array([11,21], dtype = np.int64)\nprint(ex3.dtype)",
      "execution_count": 50,
      "outputs": [
        {
          "output_type": "stream",
          "text": "int64\n",
          "name": "stdout"
        }
      ]
    },
    {
      "metadata": {
        "trusted": true
      },
      "cell_type": "code",
      "source": "# Force float into integers using the floor function\nex4 = np.array([11.1, 12.7], dtype = np.int64)\nprint(ex4.dtype)\nprint()\nprint(ex4)\n",
      "execution_count": 51,
      "outputs": [
        {
          "output_type": "stream",
          "text": "int64\n\n[11 12]\n",
          "name": "stdout"
        }
      ]
    },
    {
      "metadata": {
        "trusted": true
      },
      "cell_type": "code",
      "source": "# Force integers into floats if you anticipate the values may change to float later\nex5 = np.array([11,21], dtype = np.float64)\nprint(ex5.dtype)\nprint()\nprint(ex5)",
      "execution_count": 52,
      "outputs": [
        {
          "output_type": "stream",
          "text": "float64\n\n[11. 21.]\n",
          "name": "stdout"
        }
      ]
    },
    {
      "metadata": {},
      "cell_type": "markdown",
      "source": "### Arithmetic Array Operations"
    },
    {
      "metadata": {
        "trusted": true
      },
      "cell_type": "code",
      "source": "x = np.array([[111,112], [121,122]], dtype = np.int64)\ny = np.array([[211.1,212.1],[221.1,222.1]], dtype = np.float64)\nprint(x)\nprint()\nprint(y)                        ",
      "execution_count": 56,
      "outputs": [
        {
          "output_type": "stream",
          "text": "[[111 112]\n [121 122]]\n\n[[211.1 212.1]\n [221.1 222.1]]\n",
          "name": "stdout"
        }
      ]
    },
    {
      "metadata": {
        "trusted": true
      },
      "cell_type": "code",
      "source": "# Add X to Y using the plus sign\nprint(x+y)\nprint()",
      "execution_count": 57,
      "outputs": [
        {
          "output_type": "stream",
          "text": "[[322.1 324.1]\n [342.1 344.1]]\n\n",
          "name": "stdout"
        }
      ]
    },
    {
      "metadata": {
        "trusted": true
      },
      "cell_type": "code",
      "source": "# Add X to Y using the function ADD\nprint(np.add(x,y))\n",
      "execution_count": 58,
      "outputs": [
        {
          "output_type": "stream",
          "text": "[[322.1 324.1]\n [342.1 344.1]]\n",
          "name": "stdout"
        }
      ]
    },
    {
      "metadata": {
        "trusted": true
      },
      "cell_type": "code",
      "source": "# Subtract X from Y using the minus sign\nprint(x-y)\nprint()",
      "execution_count": 59,
      "outputs": [
        {
          "output_type": "stream",
          "text": "[[-100.1 -100.1]\n [-100.1 -100.1]]\n\n",
          "name": "stdout"
        }
      ]
    },
    {
      "metadata": {
        "trusted": true
      },
      "cell_type": "code",
      "source": "# Subtract X from Y using the function SUBSTRACT\nprint(np.subtract(x,y))",
      "execution_count": 61,
      "outputs": [
        {
          "output_type": "stream",
          "text": "[[-100.1 -100.1]\n [-100.1 -100.1]]\n",
          "name": "stdout"
        }
      ]
    },
    {
      "metadata": {
        "trusted": true
      },
      "cell_type": "code",
      "source": "# Multiply X by Y using the multiplication sign\nprint(x*y)\nprint()\nprint(np.multiply(x,y)) # Using the multiply function ",
      "execution_count": 62,
      "outputs": [
        {
          "output_type": "stream",
          "text": "[[23432.1 23755.2]\n [26753.1 27096.2]]\n\n[[23432.1 23755.2]\n [26753.1 27096.2]]\n",
          "name": "stdout"
        }
      ]
    },
    {
      "metadata": {
        "trusted": true
      },
      "cell_type": "code",
      "source": "# Divide X by Y using the division sign\nprint(x/y)\nprint()\nprint(np.divide(x,y)) # Using the DIVIde function",
      "execution_count": 63,
      "outputs": [
        {
          "output_type": "stream",
          "text": "[[0.52581715 0.52805281]\n [0.54726368 0.54930212]]\n\n[[0.52581715 0.52805281]\n [0.54726368 0.54930212]]\n",
          "name": "stdout"
        }
      ]
    },
    {
      "metadata": {
        "trusted": true
      },
      "cell_type": "code",
      "source": "# Square root\nprint(np.sqrt(x))\nprint()",
      "execution_count": 65,
      "outputs": [
        {
          "output_type": "stream",
          "text": "[[10.53565375 10.58300524]\n [11.         11.04536102]]\n\n",
          "name": "stdout"
        }
      ]
    },
    {
      "metadata": {
        "trusted": true
      },
      "cell_type": "code",
      "source": "# Exponent (e**x)\nprint(np.exp(x))\nprint()\n\n",
      "execution_count": 66,
      "outputs": [
        {
          "output_type": "stream",
          "text": "[[1.60948707e+48 4.37503945e+48]\n [3.54513118e+52 9.63666567e+52]]\n\n",
          "name": "stdout"
        }
      ]
    },
    {
      "metadata": {
        "trusted": true
      },
      "cell_type": "markdown",
      "source": "# Speed Test: ndarray vs. list"
    },
    {
      "metadata": {},
      "cell_type": "markdown",
      "source": "First set up the parameters for the speed test. We will be testing time to sum elements in an ndarray vs list"
    },
    {
      "metadata": {
        "trusted": true
      },
      "cell_type": "code",
      "source": "from numpy import arange\nfrom timeit import Timer\nsize = 1000000\ntimeit = 1000",
      "execution_count": 9,
      "outputs": []
    },
    {
      "metadata": {
        "trusted": true
      },
      "cell_type": "code",
      "source": "# Create ndarray with values 0, 1, 2, 3,..., size-1\nndarray = arange(size)\nprint(type(ndarray))",
      "execution_count": 10,
      "outputs": [
        {
          "output_type": "stream",
          "text": "<class 'numpy.ndarray'>\n",
          "name": "stdout"
        }
      ]
    },
    {
      "metadata": {
        "trusted": true
      },
      "cell_type": "code",
      "source": "# Timer expects the operations as a parameter\n# Here we pass ndarray.sum()\ntimer_numpy = Timer(\"ndarray.sum\", \"from_main_import nd_array\" )\nprint(\"Time taken by numpy ndarray: %f seconds\" %\n     (timer_numpy.timeit(timeits/timeits))",
      "execution_count": 12,
      "outputs": [
        {
          "output_type": "error",
          "ename": "SyntaxError",
          "evalue": "unexpected EOF while parsing (<ipython-input-12-429eefb480fb>, line 5)",
          "traceback": [
            "\u001b[0;36m  File \u001b[0;32m\"<ipython-input-12-429eefb480fb>\"\u001b[0;36m, line \u001b[0;32m5\u001b[0m\n\u001b[0;31m    (timer_numpy.timeit(timeits/timeits))\u001b[0m\n\u001b[0m                                         ^\u001b[0m\n\u001b[0;31mSyntaxError\u001b[0m\u001b[0;31m:\u001b[0m unexpected EOF while parsing\n"
          ]
        }
      ]
    },
    {
      "metadata": {
        "trusted": true
      },
      "cell_type": "code",
      "source": "",
      "execution_count": null,
      "outputs": []
    }
  ],
  "metadata": {
    "kernelspec": {
      "name": "python36",
      "display_name": "Python 3.6",
      "language": "python"
    },
    "language_info": {
      "mimetype": "text/x-python",
      "nbconvert_exporter": "python",
      "name": "python",
      "pygments_lexer": "ipython3",
      "version": "3.6.3",
      "file_extension": ".py",
      "codemirror_mode": {
        "version": 3,
        "name": "ipython"
      }
    }
  },
  "nbformat": 4,
  "nbformat_minor": 2
}